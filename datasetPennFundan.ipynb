{
 "cells": [
  {
   "cell_type": "code",
   "execution_count": 1,
   "metadata": {},
   "outputs": [],
   "source": [
    "import os\n",
    "import numpy as np\n",
    "import torch\n",
    "from PIL import Image"
   ]
  },
  {
   "cell_type": "code",
   "execution_count": 2,
   "metadata": {},
   "outputs": [],
   "source": [
    "class PennFundanDataset(torch.utils.data.Dataset):\n",
    "    def __init__(self, root, transforms):\n",
    "        self.root = root\n",
    "        self.transforms = transforms\n",
    "\n",
    "        # load all image files, sorting them to \n",
    "        # ensure that they are alligned\n",
    "        self.imgs = list(sorted(os.listdir(os.path.join(root, 'PNGImages'))))\n",
    "        self.masks = list(sorted(os.listdir(os.path.join(root, 'PedMasks'))))\n",
    "\n",
    "    def __getitem__(self, idx):\n",
    "        # load images and masks\n",
    "        img_path = os.path.join(self.root, 'PNGImages', self.imgs[idx])\n",
    "        mask_path = os.path.join(self.root, 'PedMasks', self.masks[idx])\n",
    "        img = Image.open(img_path).convert('RGB')\n",
    "        # not converting masks to RGB because every color corresponds\n",
    "        # to a different istance (0 is the background)\n",
    "        mask = Image.open(mask_path)\n",
    "        # convert PIL image into np array\n",
    "        mask = np.array(mask)\n",
    "        # istances are encoded as different colors\n",
    "        obj_ids = np.unique(mask)\n",
    "        # first id is the backgroud (0), removing it\n",
    "        obj_ids = obj_ids[1:]\n",
    "\n",
    "        # splitting the color-encoded mask into a set of binary mask\n",
    "        masks = mask == obj_ids[:, None, None]\n",
    "\n",
    "\n",
    "        # get the bounding box coordinates for each mask\n",
    "        num_objs = len(obj_ids)\n",
    "        boxes = []\n",
    "        for i in range(num_objs):\n",
    "            pos = np.where(masks[i])\n",
    "            xmin = np.min(pos[1])\n",
    "            xmax = np.max(pos[1])\n",
    "            ymin = np.min(pos[0])\n",
    "            ymax = np.max(pos[0])\n",
    "            boxes.append([xmin, ymin, xmax, ymax])\n",
    "\n",
    "        # convert everything into torch.Tensor\n",
    "        boxes = torch.as_tensor(boxes, dtype = torch.float32)\n",
    "        # there is only one class\n",
    "        labels = torch.ones((num_objs,), dtype = torch.int64)\n",
    "        masks = torch.as_tensor(masks, dtype=torch.uint8)\n",
    "\n",
    "        image_id = torch.tensor([idx])\n",
    "        area = (boxes[:, 3] - boxes[:, 1]) * (boxes[:, 2] - boxes[:, 0])\n",
    "        # suppose all instances are not crowd\n",
    "        iscrowd = torch.zers((num_objs,), dtype = torch.int64)\n",
    "\n",
    "        target = {}\n",
    "        target[\"boxes\"] = boxes\n",
    "        target[\"labels\"] = labels\n",
    "        target[\"masks\"] = masks\n",
    "        target[\"image_id\"] = image_id\n",
    "        target[\"area\"] = area\n",
    "        target[\"iscrowd\"] = iscrowd\n",
    "\n",
    "        if self.transforms is not None:\n",
    "            img, target = self.transforms(img, target)\n",
    "\n",
    "        return img, target\n",
    "    \n",
    "    def __len__(self):\n",
    "        return len(self.imgs)"
   ]
  },
  {
   "cell_type": "code",
   "execution_count": null,
   "metadata": {},
   "outputs": [],
   "source": []
  },
  {
   "cell_type": "code",
   "execution_count": null,
   "metadata": {},
   "outputs": [],
   "source": []
  },
  {
   "cell_type": "code",
   "execution_count": null,
   "metadata": {},
   "outputs": [],
   "source": []
  }
 ],
 "metadata": {
  "interpreter": {
   "hash": "6a31dc52f2a15ebec876b164bc087f10e745d79bfabeaaf6c6832eed247a2811"
  },
  "kernelspec": {
   "display_name": "Python 3.8.12 ('torch')",
   "language": "python",
   "name": "python3"
  },
  "language_info": {
   "codemirror_mode": {
    "name": "ipython",
    "version": 3
   },
   "file_extension": ".py",
   "mimetype": "text/x-python",
   "name": "python",
   "nbconvert_exporter": "python",
   "pygments_lexer": "ipython3",
   "version": "3.8.12"
  },
  "orig_nbformat": 4
 },
 "nbformat": 4,
 "nbformat_minor": 2
}
